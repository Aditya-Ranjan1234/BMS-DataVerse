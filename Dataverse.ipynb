{
  "nbformat": 4,
  "nbformat_minor": 0,
  "metadata": {
    "colab": {
      "provenance": []
    },
    "kernelspec": {
      "name": "python3",
      "display_name": "Python 3"
    },
    "language_info": {
      "name": "python"
    }
  },
  "cells": [
    {
      "cell_type": "markdown",
      "source": [
        "## ML MODEL"
      ],
      "metadata": {
        "id": "nBC6sfGdBKZK"
      }
    },
    {
      "cell_type": "code",
      "source": [
        "!pip install transformers torch"
      ],
      "metadata": {
        "colab": {
          "base_uri": "https://localhost:8080/"
        },
        "collapsed": true,
        "id": "Q3boju43BWMO",
        "outputId": "851c25e6-aa8c-4e4f-af41-3435b01d59e3"
      },
      "execution_count": null,
      "outputs": [
        {
          "output_type": "stream",
          "name": "stdout",
          "text": [
            "Requirement already satisfied: transformers in /usr/local/lib/python3.10/dist-packages (4.46.2)\n",
            "Requirement already satisfied: torch in /usr/local/lib/python3.10/dist-packages (2.5.1+cu121)\n",
            "Requirement already satisfied: filelock in /usr/local/lib/python3.10/dist-packages (from transformers) (3.16.1)\n",
            "Requirement already satisfied: huggingface-hub<1.0,>=0.23.2 in /usr/local/lib/python3.10/dist-packages (from transformers) (0.26.2)\n",
            "Requirement already satisfied: numpy>=1.17 in /usr/local/lib/python3.10/dist-packages (from transformers) (1.26.4)\n",
            "Requirement already satisfied: packaging>=20.0 in /usr/local/lib/python3.10/dist-packages (from transformers) (24.2)\n",
            "Requirement already satisfied: pyyaml>=5.1 in /usr/local/lib/python3.10/dist-packages (from transformers) (6.0.2)\n",
            "Requirement already satisfied: regex!=2019.12.17 in /usr/local/lib/python3.10/dist-packages (from transformers) (2024.9.11)\n",
            "Requirement already satisfied: requests in /usr/local/lib/python3.10/dist-packages (from transformers) (2.32.3)\n",
            "Requirement already satisfied: safetensors>=0.4.1 in /usr/local/lib/python3.10/dist-packages (from transformers) (0.4.5)\n",
            "Requirement already satisfied: tokenizers<0.21,>=0.20 in /usr/local/lib/python3.10/dist-packages (from transformers) (0.20.3)\n",
            "Requirement already satisfied: tqdm>=4.27 in /usr/local/lib/python3.10/dist-packages (from transformers) (4.66.6)\n",
            "Requirement already satisfied: typing-extensions>=4.8.0 in /usr/local/lib/python3.10/dist-packages (from torch) (4.12.2)\n",
            "Requirement already satisfied: networkx in /usr/local/lib/python3.10/dist-packages (from torch) (3.4.2)\n",
            "Requirement already satisfied: jinja2 in /usr/local/lib/python3.10/dist-packages (from torch) (3.1.4)\n",
            "Requirement already satisfied: fsspec in /usr/local/lib/python3.10/dist-packages (from torch) (2024.10.0)\n",
            "Requirement already satisfied: sympy==1.13.1 in /usr/local/lib/python3.10/dist-packages (from torch) (1.13.1)\n",
            "Requirement already satisfied: mpmath<1.4,>=1.1.0 in /usr/local/lib/python3.10/dist-packages (from sympy==1.13.1->torch) (1.3.0)\n",
            "Requirement already satisfied: MarkupSafe>=2.0 in /usr/local/lib/python3.10/dist-packages (from jinja2->torch) (3.0.2)\n",
            "Requirement already satisfied: charset-normalizer<4,>=2 in /usr/local/lib/python3.10/dist-packages (from requests->transformers) (3.4.0)\n",
            "Requirement already satisfied: idna<4,>=2.5 in /usr/local/lib/python3.10/dist-packages (from requests->transformers) (3.10)\n",
            "Requirement already satisfied: urllib3<3,>=1.21.1 in /usr/local/lib/python3.10/dist-packages (from requests->transformers) (2.2.3)\n",
            "Requirement already satisfied: certifi>=2017.4.17 in /usr/local/lib/python3.10/dist-packages (from requests->transformers) (2024.8.30)\n"
          ]
        }
      ]
    },
    {
      "cell_type": "code",
      "source": [
        "!pip install catboost"
      ],
      "metadata": {
        "colab": {
          "base_uri": "https://localhost:8080/"
        },
        "collapsed": true,
        "id": "VS_RVUuAXoH8",
        "outputId": "137599a2-82bf-410d-8344-20ad0f627a2f"
      },
      "execution_count": null,
      "outputs": [
        {
          "output_type": "stream",
          "name": "stdout",
          "text": [
            "Collecting catboost\n",
            "  Downloading catboost-1.2.7-cp310-cp310-manylinux2014_x86_64.whl.metadata (1.2 kB)\n",
            "Requirement already satisfied: graphviz in /usr/local/lib/python3.10/dist-packages (from catboost) (0.20.3)\n",
            "Requirement already satisfied: matplotlib in /usr/local/lib/python3.10/dist-packages (from catboost) (3.8.0)\n",
            "Requirement already satisfied: numpy<2.0,>=1.16.0 in /usr/local/lib/python3.10/dist-packages (from catboost) (1.26.4)\n",
            "Requirement already satisfied: pandas>=0.24 in /usr/local/lib/python3.10/dist-packages (from catboost) (2.2.2)\n",
            "Requirement already satisfied: scipy in /usr/local/lib/python3.10/dist-packages (from catboost) (1.13.1)\n",
            "Requirement already satisfied: plotly in /usr/local/lib/python3.10/dist-packages (from catboost) (5.24.1)\n",
            "Requirement already satisfied: six in /usr/local/lib/python3.10/dist-packages (from catboost) (1.16.0)\n",
            "Requirement already satisfied: python-dateutil>=2.8.2 in /usr/local/lib/python3.10/dist-packages (from pandas>=0.24->catboost) (2.8.2)\n",
            "Requirement already satisfied: pytz>=2020.1 in /usr/local/lib/python3.10/dist-packages (from pandas>=0.24->catboost) (2024.2)\n",
            "Requirement already satisfied: tzdata>=2022.7 in /usr/local/lib/python3.10/dist-packages (from pandas>=0.24->catboost) (2024.2)\n",
            "Requirement already satisfied: contourpy>=1.0.1 in /usr/local/lib/python3.10/dist-packages (from matplotlib->catboost) (1.3.1)\n",
            "Requirement already satisfied: cycler>=0.10 in /usr/local/lib/python3.10/dist-packages (from matplotlib->catboost) (0.12.1)\n",
            "Requirement already satisfied: fonttools>=4.22.0 in /usr/local/lib/python3.10/dist-packages (from matplotlib->catboost) (4.55.0)\n",
            "Requirement already satisfied: kiwisolver>=1.0.1 in /usr/local/lib/python3.10/dist-packages (from matplotlib->catboost) (1.4.7)\n",
            "Requirement already satisfied: packaging>=20.0 in /usr/local/lib/python3.10/dist-packages (from matplotlib->catboost) (24.2)\n",
            "Requirement already satisfied: pillow>=6.2.0 in /usr/local/lib/python3.10/dist-packages (from matplotlib->catboost) (11.0.0)\n",
            "Requirement already satisfied: pyparsing>=2.3.1 in /usr/local/lib/python3.10/dist-packages (from matplotlib->catboost) (3.2.0)\n",
            "Requirement already satisfied: tenacity>=6.2.0 in /usr/local/lib/python3.10/dist-packages (from plotly->catboost) (9.0.0)\n",
            "Downloading catboost-1.2.7-cp310-cp310-manylinux2014_x86_64.whl (98.7 MB)\n",
            "\u001b[2K   \u001b[90m━━━━━━━━━━━━━━━━━━━━━━━━━━━━━━━━━━━━━━━━\u001b[0m \u001b[32m98.7/98.7 MB\u001b[0m \u001b[31m10.2 MB/s\u001b[0m eta \u001b[36m0:00:00\u001b[0m\n",
            "\u001b[?25hInstalling collected packages: catboost\n",
            "Successfully installed catboost-1.2.7\n"
          ]
        }
      ]
    },
    {
      "cell_type": "code",
      "source": [
        "from sklearn.linear_model import LinearRegression, Ridge, Lasso, ElasticNet, HuberRegressor, BayesianRidge\n",
        "from sklearn.tree import DecisionTreeRegressor, DecisionTreeClassifier\n",
        "from sklearn.ensemble import RandomForestRegressor, RandomForestClassifier, GradientBoostingRegressor, GradientBoostingClassifier, AdaBoostRegressor, AdaBoostClassifier\n",
        "from sklearn.svm import SVR, SVC\n",
        "from sklearn.neighbors import KNeighborsRegressor, KNeighborsClassifier\n",
        "from sklearn.preprocessing import StandardScaler\n",
        "from sklearn.naive_bayes import GaussianNB\n",
        "from sklearn.discriminant_analysis import LinearDiscriminantAnalysis, QuadraticDiscriminantAnalysis\n",
        "from sklearn.neural_network import MLPClassifier\n",
        "from xgboost import XGBRegressor, XGBClassifier\n",
        "from lightgbm import LGBMRegressor, LGBMClassifier\n",
        "from catboost import CatBoostRegressor, CatBoostClassifier\n",
        "from sklearn.linear_model import RidgeClassifier\n"
      ],
      "metadata": {
        "collapsed": true,
        "id": "w6jaahaZXUYI",
        "colab": {
          "base_uri": "https://localhost:8080/"
        },
        "outputId": "5e3a9a1c-940b-4b58-f79e-ccb0c7367cd9"
      },
      "execution_count": null,
      "outputs": [
        {
          "output_type": "stream",
          "name": "stderr",
          "text": [
            "/usr/local/lib/python3.10/dist-packages/dask/dataframe/__init__.py:42: FutureWarning: \n",
            "Dask dataframe query planning is disabled because dask-expr is not installed.\n",
            "\n",
            "You can install it with `pip install dask[dataframe]` or `conda install dask`.\n",
            "This will raise in a future version.\n",
            "\n",
            "  warnings.warn(msg, FutureWarning)\n"
          ]
        }
      ]
    },
    {
      "cell_type": "code",
      "source": [
        "import pandas as pd\n",
        "from sklearn.preprocessing import LabelEncoder, StandardScaler\n",
        "from sklearn.model_selection import train_test_split\n",
        "from sklearn.metrics import (\n",
        "    accuracy_score, classification_report, mean_squared_error,\n",
        "    mean_absolute_error, r2_score, f1_score\n",
        ")\n",
        "from sklearn.linear_model import LinearRegression, LogisticRegression, Ridge, Lasso, ElasticNet\n",
        "from sklearn.tree import DecisionTreeRegressor, DecisionTreeClassifier\n",
        "from sklearn.ensemble import RandomForestRegressor, RandomForestClassifier, GradientBoostingRegressor, GradientBoostingClassifier, AdaBoostRegressor, AdaBoostClassifier\n",
        "from sklearn.svm import SVR, SVC\n",
        "from sklearn.neighbors import KNeighborsRegressor, KNeighborsClassifier\n",
        "from sklearn.linear_model import HuberRegressor, BayesianRidge, RidgeClassifier\n",
        "from xgboost import XGBRegressor, XGBClassifier\n",
        "from lightgbm import LGBMRegressor, LGBMClassifier\n",
        "from catboost import CatBoostRegressor, CatBoostClassifier\n",
        "from sklearn.discriminant_analysis import LinearDiscriminantAnalysis, QuadraticDiscriminantAnalysis\n",
        "from sklearn.neural_network import MLPClassifier\n",
        "from sklearn.naive_bayes import GaussianNB\n",
        "import numpy as np\n",
        "\n",
        "# Load dataset\n",
        "data = pd.read_csv(\"train (5).csv\")\n",
        "\n",
        "# Preprocessing\n",
        "label_encoder = LabelEncoder()\n",
        "label_encoder_buildings = LabelEncoder()\n",
        "data['Building_Type'] = label_encoder.fit_transform(data['Building_Type'])\n",
        "data['Energy_Efficiency_Rating'] = label_encoder.fit_transform(data['Energy_Efficiency_Rating'])\n",
        "data['Building_ID'] = label_encoder_buildings.fit_transform(data['Building_ID'])\n",
        "data['Energy_Usage_per_Floor_Area'] = data['Consumption_Energy_Usage'] / (data['Floor_Area'] + 1e-9)\n",
        "data['Occupants_per_Floor_Area'] = data['Occupants'] / (data['Floor_Area'] + 1e-9)\n",
        "data['Log_Energy_Usage'] = np.log1p(data['Consumption_Energy_Usage'])\n",
        "#data['Square_Floor_Area'] = data['Floor_Area'] ** 2\n",
        "\n",
        "\n",
        "# Scale numerical features\n",
        "numerical_columns = [\n",
        "    'Consumption_Energy_Usage',\n",
        "    'Consumption_Energy_Ur_Consumption',\n",
        "    'Occupants',\n",
        "    'Floor_Area'\n",
        "]\n",
        "scaler = StandardScaler()\n",
        "data[numerical_columns] = scaler.fit_transform(data[numerical_columns])\n",
        "\n",
        "# Features and target\n",
        "X = data.drop(columns=['Energy_Efficiency_Rating'])\n",
        "y = data['Energy_Efficiency_Rating']\n",
        "\n",
        "# Train-test split\n",
        "X_train, X_test, y_train, y_test = train_test_split(X, y, test_size=0.2, random_state=42)\n",
        "\n",
        "# Define models\n",
        "models = {\n",
        "    # Regressors\n",
        "    # 'Linear Regression': LinearRegression(),\n",
        "    # 'Ridge Regression': Ridge(),\n",
        "    # 'Lasso Regression': Lasso(),\n",
        "    # 'ElasticNet Regression': ElasticNet(),\n",
        "    # 'Decision Tree Regressor': DecisionTreeRegressor(),\n",
        "    # 'Random Forest Regressor': RandomForestRegressor(),\n",
        "    # 'Support Vector Regression': SVR(),\n",
        "    # 'K-Nearest Neighbors Regressor': KNeighborsRegressor(),\n",
        "    # 'Gradient Boosting Regressor': GradientBoostingRegressor(),\n",
        "    # 'XGBoost Regressor': XGBRegressor(),\n",
        "    # 'LightGBM Regressor': LGBMRegressor(),\n",
        "    # 'CatBoost Regressor': CatBoostRegressor(learning_rate=0.1, iterations=1000, depth=6, verbose=0),\n",
        "    # 'AdaBoost Regressor': AdaBoostRegressor(),\n",
        "    # 'Huber Regressor': HuberRegressor(),\n",
        "    # 'Bayesian Ridge Regression': BayesianRidge(),\n",
        "\n",
        "    # Classifiers\n",
        "    # 'Logistic Regression': LogisticRegression(),\n",
        "    'K-Nearest Neighbors Classifier': KNeighborsClassifier(),\n",
        "    # 'Support Vector Classifier': SVC(),\n",
        "    'Decision Tree Classifier': DecisionTreeClassifier(),\n",
        "    'Random Forest Classifier': RandomForestClassifier(),\n",
        "    'Gradient Boosting Classifier': GradientBoostingClassifier(),\n",
        "    # 'XGBoost Classifier': XGBClassifier(),\n",
        "    # 'LightGBM Classifier': LGBMClassifier(),\n",
        "    # 'CatBoost Classifier': CatBoostClassifier(learning_rate=0.1, iterations=1000, depth=6, verbose=0),\n",
        "    # 'Naive Bayes Classifier': GaussianNB(),\n",
        "    'AdaBoost Classifier': AdaBoostClassifier(),\n",
        "    # 'MLP Classifier': MLPClassifier(),\n",
        "    'Linear Discriminant Analysis': LinearDiscriminantAnalysis(),\n",
        "    'Quadratic Discriminant Analysis': QuadraticDiscriminantAnalysis(),\n",
        "    'Ridge Classifier': RidgeClassifier()\n",
        "}\n",
        "\n",
        "# Evaluate models\n",
        "# results = {}\n",
        "# for name, model in models.items():\n",
        "#     #print(f\"Training {name}...\")\n",
        "#     model.fit(X_train, y_train)\n",
        "#     y_pred = model.predict(X_test)\n",
        "\n",
        "#     if \"Regressor\" in name:\n",
        "#         # Evaluation metrics for regressors\n",
        "#         mse = mean_squared_error(y_test, y_pred)\n",
        "#         mae = mean_absolute_error(y_test, y_pred)\n",
        "#         r2 = r2_score(y_test, y_pred)\n",
        "#         print(f\"{name} - MSE: {mse:.4f}, MAE: {mae:.4f}, R^2: {r2:.4f}\")\n",
        "#         results[name] = {\"MSE\": mse, \"MAE\": mae, \"R2\": r2}\n",
        "#     elif \"Classifier\" in name:\n",
        "#         # Evaluation metrics for classifiers\n",
        "#         acc = accuracy_score(y_test, y_pred)\n",
        "#         print(f\"{name} Accuracy: {acc:.4f}\")\n",
        "#         #print(classification_report(y_test, y_pred))\n",
        "#         results[name] = {\"Accuracy\": acc}\n",
        "\n",
        "# # Summary of results\n",
        "# print(\"\\nModel Performance Summary:\")\n",
        "# for name, metrics in results.items():\n",
        "#     print(f\"{name}: {metrics}\")\n",
        "results = {}\n",
        "for name, model in models.items():\n",
        "    print(f\"\\nTraining {name}...\")\n",
        "    model.fit(X_train, y_train)\n",
        "    y_pred = model.predict(X_test)\n",
        "    print(y_pred)\n",
        "\n",
        "\n",
        "    if np.issubdtype(y_pred.dtype, np.float_):\n",
        "        rounded_pred = np.rint(y_pred).astype(int)\n",
        "        f1 = f1_score(y_test, rounded_pred, average=\"weighted\", zero_division=1)\n",
        "\n",
        "        mse = mean_squared_error(y_test, y_pred)\n",
        "        mae = mean_absolute_error(y_test, y_pred)\n",
        "        r2 = r2_score(y_test, y_pred)\n",
        "        results[name] = {\"MSE\": mse, \"MAE\": mae, \"R2\": r2, \"F1\": f1}\n",
        "    else:\n",
        "        if hasattr(model, \"predict_proba\"):\n",
        "            y_pred = np.argmax(model.predict_proba(X_test), axis=1)\n",
        "        try :\n",
        "          acc = accuracy_score(y_test, y_pred)\n",
        "          f1 = f1_score(y_test, y_pred, average=\"weighted\", zero_division=1)\n",
        "        except Exception as e:\n",
        "          print(f\"Error in {name}: {e}\")\n",
        "          continue\n",
        "        results[name] = {\"Accuracy\": acc, \"F1\": f1}\n",
        "\n",
        "print(\"\\nModel Performance Summary:\")\n",
        "for name, metrics in results.items():\n",
        "    print(f\"{name}: {metrics}\")\n"
      ],
      "metadata": {
        "colab": {
          "base_uri": "https://localhost:8080/"
        },
        "collapsed": true,
        "id": "pd6ii_dlXBN6",
        "outputId": "b0c86ee3-ad9c-4020-f326-3bb3ab5cd829"
      },
      "execution_count": null,
      "outputs": [
        {
          "output_type": "stream",
          "name": "stdout",
          "text": [
            "\n",
            "Training K-Nearest Neighbors Classifier...\n",
            "[0 2 2 1 1 0 1 0 0 1 2 0 0 0 0 3 0 0 3 2 0 0 0 0 3 1 2 0 1 1 2 0 3 2 0 0 3\n",
            " 0 1 2 2 1 0 0 0 2 3 1 1 0 3 0 1 1 3 0 1 2 1 0 0 0 2 3 1 3 2 3 0 0 3 2 1 2\n",
            " 2 1 1 1 2 0 0 3 2 3 2 0 3 3 1 2 0 0 3 1 2 1 3 1 2 0 1 0 0 0 0 0 1 1 2 0 0\n",
            " 0 0 1 2 3 2 2 1 3 2 1 2 1 1 2 0 0 2 2 0 0 1 3 0 2 0 3 0 0 1 1 0 3 3 0 2 0\n",
            " 0 1 0 2 2 1 0 0 1 1 2 0 0 0 0 1 0 2 0 3 1 1 1 1 2 3 0 0 1 1 1 0 3 0 2 0 3\n",
            " 1 0 1 1 0 0 2 2 0 0 0 1 3 2 2]\n",
            "\n",
            "Training Decision Tree Classifier...\n",
            "[1 1 0 1 2 0 1 3 3 0 2 0 1 3 1 2 3 2 0 0 3 2 3 1 3 2 2 0 2 3 3 1 1 0 0 2 1\n",
            " 1 1 0 1 0 3 0 3 3 0 1 0 0 0 3 2 3 2 3 2 3 3 1 3 0 3 0 3 1 0 1 3 1 0 0 1 0\n",
            " 1 2 1 3 1 1 0 3 0 0 3 1 1 3 1 0 2 0 1 1 2 3 1 1 2 0 1 3 2 0 1 0 3 3 2 3 1\n",
            " 0 3 0 1 2 3 2 1 1 3 2 0 0 1 3 0 3 0 0 3 3 3 2 1 2 0 0 3 0 3 3 0 3 2 0 2 0\n",
            " 1 0 2 3 2 3 1 1 0 3 3 1 0 0 0 0 3 0 0 1 2 0 0 3 1 3 3 0 0 0 0 2 0 0 2 3 2\n",
            " 1 1 0 3 0 3 3 0 3 3 0 1 1 0 3]\n",
            "\n",
            "Training Random Forest Classifier...\n",
            "[3 2 3 2 3 3 0 1 2 1 0 0 3 3 3 3 2 2 0 2 0 2 2 0 2 2 2 3 0 3 3 0 1 1 2 0 0\n",
            " 0 0 2 3 0 2 0 3 1 0 0 3 0 0 0 2 3 3 3 2 3 3 0 3 0 1 0 1 2 3 1 2 1 2 1 0 0\n",
            " 1 0 1 0 0 1 0 0 0 2 3 0 3 0 2 0 1 0 0 2 0 2 2 3 1 1 1 3 2 1 2 0 3 0 2 1 1\n",
            " 3 3 1 3 0 2 3 2 3 0 2 2 0 1 3 1 2 2 0 3 3 0 2 1 1 2 3 2 2 2 0 0 3 0 0 1 0\n",
            " 0 3 2 0 3 3 2 0 0 3 0 0 0 0 1 3 3 2 3 1 0 0 3 1 0 3 1 0 0 0 0 0 2 0 2 2 0\n",
            " 1 1 1 3 2 1 0 0 1 3 1 2 1 2 2]\n",
            "\n",
            "Training Gradient Boosting Classifier...\n",
            "[3 3 3 3 3 3 0 0 2 1 0 0 3 1 3 1 2 2 0 2 0 2 1 0 0 3 2 3 1 0 3 1 3 1 0 1 2\n",
            " 0 0 2 3 1 2 0 3 0 3 1 0 0 3 0 0 3 0 2 0 3 3 2 1 2 1 0 1 2 0 2 0 3 2 2 0 2\n",
            " 3 3 1 1 0 3 0 1 0 2 0 3 3 0 2 3 2 2 2 2 2 1 2 3 2 1 1 3 2 1 2 2 2 3 1 0 3\n",
            " 2 3 2 3 2 0 3 0 2 0 2 2 0 1 3 1 2 1 0 3 2 3 2 0 2 2 0 3 0 2 0 0 3 2 0 2 0\n",
            " 3 3 2 3 1 3 1 0 0 2 0 3 0 1 3 0 2 2 3 1 0 0 3 1 0 3 1 0 3 2 0 0 1 2 2 1 3\n",
            " 3 2 3 3 0 3 2 0 1 3 2 2 3 2 0]\n",
            "\n",
            "Training AdaBoost Classifier...\n",
            "[0 2 3 0 3 3 0 1 2 2 1 1 1 1 1 3 1 2 1 2 3 3 2 0 3 0 3 0 0 3 0 1 3 1 1 3 1\n",
            " 3 1 2 3 1 2 1 3 0 2 3 2 2 2 0 1 3 0 2 0 2 3 0 3 2 1 3 1 3 0 2 3 2 2 0 0 0\n",
            " 2 3 0 1 2 0 0 2 0 3 0 0 0 0 3 2 0 1 0 0 1 1 1 3 3 2 0 1 2 1 3 1 3 2 3 0 0\n",
            " 2 0 1 3 2 0 1 0 1 2 2 3 0 0 3 1 2 2 2 1 2 1 0 0 3 0 3 2 3 2 3 3 2 2 0 2 1\n",
            " 2 3 2 1 1 3 0 0 0 0 3 2 0 0 0 2 2 2 1 0 0 3 0 1 0 0 2 0 1 3 0 0 3 3 3 1 1\n",
            " 3 0 1 3 0 2 1 0 0 3 1 2 3 3 0]\n",
            "\n",
            "Training Linear Discriminant Analysis...\n"
          ]
        },
        {
          "output_type": "stream",
          "name": "stderr",
          "text": [
            "/usr/local/lib/python3.10/dist-packages/sklearn/ensemble/_weight_boosting.py:527: FutureWarning: The SAMME.R algorithm (the default) is deprecated and will be removed in 1.6. Use the SAMME algorithm to circumvent this warning.\n",
            "  warnings.warn(\n"
          ]
        },
        {
          "output_type": "stream",
          "name": "stdout",
          "text": [
            "[0 2 3 0 2 3 0 2 2 3 3 0 0 0 0 2 2 0 0 2 3 3 2 0 0 0 2 0 3 3 0 2 0 1 2 2 3\n",
            " 0 0 2 0 2 2 3 3 0 3 3 2 0 0 0 0 3 2 1 0 0 1 0 0 2 2 0 1 3 2 3 2 2 2 2 2 3\n",
            " 0 0 0 1 3 2 0 1 0 0 2 0 1 0 0 2 0 1 2 2 3 2 2 2 2 3 0 2 2 0 3 2 0 3 1 0 0\n",
            " 3 3 0 0 3 0 0 0 2 0 0 2 0 3 0 1 3 2 0 2 0 1 0 2 2 0 0 2 1 2 0 0 2 2 0 0 1\n",
            " 0 3 3 0 3 2 0 0 1 2 1 0 0 0 2 3 3 2 2 0 0 0 2 2 0 3 0 0 2 0 0 0 1 2 3 2 0\n",
            " 2 2 3 0 2 3 0 0 2 0 0 2 0 3 0]\n",
            "\n",
            "Training Quadratic Discriminant Analysis...\n",
            "[3 1 3 3 3 1 0 2 2 1 2 2 2 2 2 2 1 0 2 2 3 3 2 2 2 0 2 3 0 1 0 2 2 1 1 2 2\n",
            " 2 2 2 3 2 2 0 3 1 0 1 2 0 0 2 0 3 1 2 1 3 2 2 2 2 1 0 2 0 1 2 0 2 2 2 2 3\n",
            " 1 0 2 2 1 2 0 3 2 0 2 2 2 0 0 2 0 2 2 2 3 2 2 3 2 3 1 2 3 0 3 2 0 1 2 2 2\n",
            " 3 3 2 3 3 0 2 0 2 0 0 2 1 3 1 1 1 2 0 2 2 2 3 2 1 2 2 3 2 3 0 0 2 3 0 2 2\n",
            " 2 1 3 2 3 3 2 2 2 2 2 0 0 3 2 2 3 2 2 2 0 0 2 2 0 3 2 0 1 0 0 0 2 2 1 2 2\n",
            " 1 2 2 3 2 3 2 2 2 1 3 2 3 2 0]\n",
            "\n",
            "Training Ridge Classifier...\n",
            "[0 2 3 0 2 3 0 2 2 3 3 0 0 0 2 2 2 0 0 2 3 3 2 0 0 0 2 0 3 3 0 2 0 1 2 2 3\n",
            " 0 0 2 0 2 2 3 3 0 3 3 0 0 0 0 3 3 2 1 0 0 2 0 0 2 2 0 1 3 0 3 0 2 2 2 2 3\n",
            " 0 0 0 1 3 2 0 1 0 0 0 0 3 0 0 2 0 1 2 2 3 2 2 2 2 3 0 2 2 0 3 2 0 3 1 0 0\n",
            " 3 3 0 0 3 0 0 0 2 0 0 2 0 3 0 1 3 2 0 2 0 1 0 2 2 0 0 2 0 2 0 0 2 2 0 0 1\n",
            " 0 3 3 0 3 2 0 0 0 0 1 0 0 0 2 3 3 2 2 0 0 0 2 2 0 3 0 0 2 0 0 0 1 2 3 2 2\n",
            " 2 2 3 0 2 3 0 0 2 0 2 2 0 3 0]\n",
            "\n",
            "Model Performance Summary:\n",
            "K-Nearest Neighbors Classifier: {'Accuracy': 0.31, 'F1': 0.30519437916177045}\n",
            "Decision Tree Classifier: {'Accuracy': 0.29, 'F1': 0.286951935483871}\n",
            "Random Forest Classifier: {'Accuracy': 0.24, 'F1': 0.2389373488475485}\n",
            "Gradient Boosting Classifier: {'Accuracy': 0.255, 'F1': 0.25435042735042734}\n",
            "AdaBoost Classifier: {'Accuracy': 0.225, 'F1': 0.22493040452370594}\n",
            "Linear Discriminant Analysis: {'Accuracy': 0.34, 'F1': 0.3243474336786327}\n",
            "Quadratic Discriminant Analysis: {'Accuracy': 0.295, 'F1': 0.2793700968927498}\n",
            "Ridge Classifier: {'Accuracy': 0.31, 'F1': 0.292121961401368}\n"
          ]
        }
      ]
    },
    {
      "cell_type": "code",
      "source": [],
      "metadata": {
        "id": "ad4l-uOu26N3"
      },
      "execution_count": null,
      "outputs": []
    },
    {
      "cell_type": "code",
      "source": [
        "import joblib"
      ],
      "metadata": {
        "id": "Exuo7D2026bM"
      },
      "execution_count": null,
      "outputs": []
    },
    {
      "cell_type": "code",
      "source": [
        "knn = KNeighborsClassifier()\n",
        "knn.fit(X_train, y_train)\n",
        "\n",
        "y_pred = knn.predict(X_test)\n",
        "print(X_test)\n",
        "\n",
        "print(\"Predictions from K-Nearest Neighbors Classifier:\")\n",
        "print(y_pred)\n",
        "decoded_predictions = label_encoder.inverse_transform(y_pred)\n",
        "print(\"Decoded Predictions from K-Nearest Neighbors Classifier:\")\n",
        "print(decoded_predictions)\n",
        "joblib.dump(knn, 'knn_model.pkl')"
      ],
      "metadata": {
        "colab": {
          "base_uri": "https://localhost:8080/"
        },
        "collapsed": true,
        "id": "RQQ9hO0vmRrm",
        "outputId": "ed9d29d4-e658-45c0-8ae1-cf8d6effd7c3"
      },
      "execution_count": null,
      "outputs": [
        {
          "output_type": "stream",
          "name": "stdout",
          "text": [
            "     Building_ID  Building_Type  Consumption_Energy_Usage  \\\n",
            "521          521              0                 -1.169791   \n",
            "737          737              2                  0.238548   \n",
            "740          740              2                  0.928461   \n",
            "660          660              0                  1.282420   \n",
            "411          411              2                  0.002653   \n",
            "..           ...            ...                       ...   \n",
            "408          408              0                  1.400174   \n",
            "332          332              2                 -1.130308   \n",
            "208          208              0                  1.503093   \n",
            "613          613              2                  1.253754   \n",
            "78            78              0                  1.172933   \n",
            "\n",
            "     Consumption_Energy_Ur_Consumption  Occupants  Floor_Area  \\\n",
            "521                           0.460823   0.433926    0.203283   \n",
            "737                           0.114272  -1.542615    0.184996   \n",
            "740                           0.127125  -1.588850   -1.245955   \n",
            "660                           1.564979  -0.005305   -0.083974   \n",
            "411                           0.940663  -1.207412   -1.530926   \n",
            "..                                 ...        ...         ...   \n",
            "408                          -0.103275  -0.791298    1.509273   \n",
            "332                          -1.303827  -0.305832    1.321070   \n",
            "208                          -0.988932  -0.005305    1.181632   \n",
            "613                           1.673752  -0.409861   -0.075593   \n",
            "78                           -1.739159   0.630424   -0.386470   \n",
            "\n",
            "     Energy_Usage_per_Floor_Area  Occupants_per_Floor_Area  Log_Energy_Usage  \n",
            "521                     0.041972                  0.062834          4.840875  \n",
            "737                     0.103723                  0.005728          5.732856  \n",
            "740                     0.364349                  0.011927          5.986804  \n",
            "660                     0.169388                  0.057361          6.095712  \n",
            "411                     0.387318                  0.064246          5.628772  \n",
            "..                           ...                       ...               ...  \n",
            "408                     0.097363                  0.017425          6.129464  \n",
            "332                     0.029309                  0.027809          4.880451  \n",
            "208                     0.110269                  0.035080          6.158059  \n",
            "613                     0.167266                  0.043793          6.087320  \n",
            "78                      0.193318                  0.092426          6.063273  \n",
            "\n",
            "[200 rows x 9 columns]\n",
            "Predictions from K-Nearest Neighbors Classifier:\n",
            "[0 2 2 1 1 0 1 0 0 1 2 0 0 0 0 3 0 0 3 2 0 0 0 0 3 1 2 0 1 1 2 0 3 2 0 0 3\n",
            " 0 1 2 2 1 0 0 0 2 3 1 1 0 3 0 1 1 3 0 1 2 1 0 0 0 2 3 1 3 2 3 0 0 3 2 1 2\n",
            " 2 1 1 1 2 0 0 3 2 3 2 0 3 3 1 2 0 0 3 1 2 1 3 1 2 0 1 0 0 0 0 0 1 1 2 0 0\n",
            " 0 0 1 2 3 2 2 1 3 2 1 2 1 1 2 0 0 2 2 0 0 1 3 0 2 0 3 0 0 1 1 0 3 3 0 2 0\n",
            " 0 1 0 2 2 1 0 0 1 1 2 0 0 0 0 1 0 2 0 3 1 1 1 1 2 3 0 0 1 1 1 0 3 0 2 0 3\n",
            " 1 0 1 1 0 0 2 2 0 0 0 1 3 2 2]\n",
            "Decoded Predictions from K-Nearest Neighbors Classifier:\n",
            "['A' 'B' 'B' 'A+' 'A+' 'A' 'A+' 'A' 'A' 'A+' 'B' 'A' 'A' 'A' 'A' 'C' 'A'\n",
            " 'A' 'C' 'B' 'A' 'A' 'A' 'A' 'C' 'A+' 'B' 'A' 'A+' 'A+' 'B' 'A' 'C' 'B'\n",
            " 'A' 'A' 'C' 'A' 'A+' 'B' 'B' 'A+' 'A' 'A' 'A' 'B' 'C' 'A+' 'A+' 'A' 'C'\n",
            " 'A' 'A+' 'A+' 'C' 'A' 'A+' 'B' 'A+' 'A' 'A' 'A' 'B' 'C' 'A+' 'C' 'B' 'C'\n",
            " 'A' 'A' 'C' 'B' 'A+' 'B' 'B' 'A+' 'A+' 'A+' 'B' 'A' 'A' 'C' 'B' 'C' 'B'\n",
            " 'A' 'C' 'C' 'A+' 'B' 'A' 'A' 'C' 'A+' 'B' 'A+' 'C' 'A+' 'B' 'A' 'A+' 'A'\n",
            " 'A' 'A' 'A' 'A' 'A+' 'A+' 'B' 'A' 'A' 'A' 'A' 'A+' 'B' 'C' 'B' 'B' 'A+'\n",
            " 'C' 'B' 'A+' 'B' 'A+' 'A+' 'B' 'A' 'A' 'B' 'B' 'A' 'A' 'A+' 'C' 'A' 'B'\n",
            " 'A' 'C' 'A' 'A' 'A+' 'A+' 'A' 'C' 'C' 'A' 'B' 'A' 'A' 'A+' 'A' 'B' 'B'\n",
            " 'A+' 'A' 'A' 'A+' 'A+' 'B' 'A' 'A' 'A' 'A' 'A+' 'A' 'B' 'A' 'C' 'A+' 'A+'\n",
            " 'A+' 'A+' 'B' 'C' 'A' 'A' 'A+' 'A+' 'A+' 'A' 'C' 'A' 'B' 'A' 'C' 'A+' 'A'\n",
            " 'A+' 'A+' 'A' 'A' 'B' 'B' 'A' 'A' 'A' 'A+' 'C' 'B' 'B']\n"
          ]
        },
        {
          "output_type": "execute_result",
          "data": {
            "text/plain": [
              "['knn_model.pkl']"
            ]
          },
          "metadata": {},
          "execution_count": 7
        }
      ]
    },
    {
      "cell_type": "code",
      "source": [
        "XG = LinearDiscriminantAnalysis()\n",
        "XG.fit(X_train, y_train)\n",
        "\n",
        "y_predxg = XG.predict(X_test)\n",
        "print(X_test)\n",
        "\n",
        "print(\"Predictions from K-Nearest Neighbors Classifier:\")\n",
        "print(y_predxg)\n",
        "decoded_predictionsxg = label_encoder.inverse_transform(y_predxg)\n",
        "print(\"Decoded Predictions from K-Nearest Neighbors Classifier:\")\n",
        "print(decoded_predictionsxg)"
      ],
      "metadata": {
        "id": "_z3tnIEpFJkf"
      },
      "execution_count": null,
      "outputs": []
    },
    {
      "cell_type": "code",
      "source": [
        "data2 = pd.read_csv(\"/content/test (4).csv\")\n",
        "data2=data2.drop(columns=['Usage'])\n",
        "print(data2)\n",
        "# Preprocessing\n",
        "label_encoder2 = LabelEncoder()\n",
        "label_encoder_buildings2 = LabelEncoder()\n",
        "data2['Building_Type'] = label_encoder2.fit_transform(data2['Building_Type'])\n",
        "data2['Building_ID'] = label_encoder_buildings2.fit_transform(data2['Building_ID'])\n",
        "data2['Energy_Usage_per_Floor_Area'] = data2['Consumption_Energy_Usage'] / (data2['Floor_Area'] + 1e-9)\n",
        "# data2['Occupants_per_Floor_Area'] = data2['Occupants'] / (data2['Floor_Area'] + 1e-9)\n",
        "data2['Log_Energy_Usage'] = np.log1p(data2['Consumption_Energy_Usage'])\n",
        "# data2['Square_Floor_Area'] = data2['Floor_Area'] ** 2\n",
        "\n",
        "numerical_columns = [\n",
        "    'Consumption_Energy_Usage',\n",
        "    'Consumption_Energy_Ur_Consumption',\n",
        "    'Occupants',\n",
        "    'Floor_Area'\n",
        "]\n",
        "scaler = StandardScaler()\n",
        "data2[numerical_columns] = scaler.fit_transform(data2[numerical_columns])\n",
        "print(data2)\n",
        "\n",
        "y_pred2 = XG.predict(data2)\n",
        "\n",
        "print(\"Predictions from K-Nearest Neighbors Classifier:\")\n",
        "print(y_pred2)\n",
        "decoded_predictions = label_encoder.inverse_transform(y_pred2)\n",
        "print(\"Decoded Predictions from K-Nearest Neighbors Classifier:\")\n",
        "print(decoded_predictions)"
      ],
      "metadata": {
        "collapsed": true,
        "id": "eBHfBVhOqssK"
      },
      "execution_count": null,
      "outputs": []
    },
    {
      "cell_type": "code",
      "source": [
        "import pandas as pd\n",
        "\n",
        "df = pd.read_csv('/content/test_predictions.csv')\n",
        "df['Energy_Efficiency_Rating'] = decoded_predictions\n",
        "\n",
        "df.to_csv('linear2.csv', index=False)"
      ],
      "metadata": {
        "id": "gU-3Ar4zuXqE"
      },
      "execution_count": null,
      "outputs": []
    },
    {
      "cell_type": "code",
      "source": [
        "correlation_matrix = data.corr()\n",
        "\n",
        "print(correlation_matrix)\n",
        "\n",
        "import seaborn as sns\n",
        "import matplotlib.pyplot as plt\n",
        "\n",
        "plt.figure(figsize=(12, 10))\n",
        "sns.heatmap(correlation_matrix, annot=True, cmap='coolwarm', linewidths=0.5)\n",
        "plt.show()\n"
      ],
      "metadata": {
        "id": "C0HKMN7TAYBA"
      },
      "execution_count": null,
      "outputs": []
    },
    {
      "cell_type": "code",
      "source": [
        "correlation_with_target = correlation_matrix['Energy_Efficiency_Rating'].abs()\n",
        "\n",
        "sorted_correlation = correlation_with_target.sort_values(ascending=False)\n",
        "\n",
        "print(\"Feature correlation with the target:\")\n",
        "print(sorted_correlation)"
      ],
      "metadata": {
        "id": "8pTXI3IkAYn_"
      },
      "execution_count": null,
      "outputs": []
    },
    {
      "cell_type": "code",
      "source": [
        "target_correlation = data.corr()['Energy_Efficiency_Rating'].abs()\n",
        "\n",
        "weights = data.apply(lambda row: sum(target_correlation[row.index] * row.values), axis=1)\n",
        "\n",
        "from sklearn.linear_model import LinearRegression\n",
        "\n",
        "knn.fit(X_train, y_train, sample_weight=weights)"
      ],
      "metadata": {
        "id": "Bgumy_YkArqk"
      },
      "execution_count": null,
      "outputs": []
    },
    {
      "cell_type": "code",
      "source": [],
      "metadata": {
        "id": "-QuOCGbJBI8H"
      },
      "execution_count": null,
      "outputs": []
    }
  ]
}